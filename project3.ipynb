{
 "cells": [
  {
   "cell_type": "code",
   "execution_count": 38,
   "metadata": {},
   "outputs": [
    {
     "name": "stdout",
     "output_type": "stream",
     "text": [
      "Requirement already satisfied: seaborn in /Library/Frameworks/Python.framework/Versions/3.8/lib/python3.8/site-packages (0.11.1)\n",
      "Requirement already satisfied: matplotlib>=2.2 in /Library/Frameworks/Python.framework/Versions/3.8/lib/python3.8/site-packages (from seaborn) (3.4.2)\n",
      "Requirement already satisfied: scipy>=1.0 in /Library/Frameworks/Python.framework/Versions/3.8/lib/python3.8/site-packages (from seaborn) (1.7.0)\n",
      "Requirement already satisfied: pandas>=0.23 in /Library/Frameworks/Python.framework/Versions/3.8/lib/python3.8/site-packages (from seaborn) (1.2.4)\n",
      "Requirement already satisfied: numpy>=1.15 in /Library/Frameworks/Python.framework/Versions/3.8/lib/python3.8/site-packages (from seaborn) (1.20.3)\n",
      "Requirement already satisfied: kiwisolver>=1.0.1 in /Library/Frameworks/Python.framework/Versions/3.8/lib/python3.8/site-packages (from matplotlib>=2.2->seaborn) (1.3.1)\n",
      "Requirement already satisfied: python-dateutil>=2.7 in /Library/Frameworks/Python.framework/Versions/3.8/lib/python3.8/site-packages (from matplotlib>=2.2->seaborn) (2.8.1)\n",
      "Requirement already satisfied: pyparsing>=2.2.1 in /Library/Frameworks/Python.framework/Versions/3.8/lib/python3.8/site-packages (from matplotlib>=2.2->seaborn) (2.4.7)\n",
      "Requirement already satisfied: pillow>=6.2.0 in /Library/Frameworks/Python.framework/Versions/3.8/lib/python3.8/site-packages (from matplotlib>=2.2->seaborn) (8.3.1)\n",
      "Requirement already satisfied: cycler>=0.10 in /Library/Frameworks/Python.framework/Versions/3.8/lib/python3.8/site-packages (from matplotlib>=2.2->seaborn) (0.10.0)\n",
      "Requirement already satisfied: six in /Library/Frameworks/Python.framework/Versions/3.8/lib/python3.8/site-packages (from cycler>=0.10->matplotlib>=2.2->seaborn) (1.16.0)\n",
      "Requirement already satisfied: pytz>=2017.3 in /Library/Frameworks/Python.framework/Versions/3.8/lib/python3.8/site-packages (from pandas>=0.23->seaborn) (2021.1)\n",
      "\u001b[33mWARNING: You are using pip version 21.1.1; however, version 21.3.1 is available.\n",
      "You should consider upgrading via the '/usr/local/bin/python3 -m pip install --upgrade pip' command.\u001b[0m\n",
      "Note: you may need to restart the kernel to use updated packages.\n"
     ]
    }
   ],
   "source": [
    "# Exploratory data analysis on MyAniList, assessing top 100 anime\n",
    "from urllib.request import urlopen as uReq\n",
    "import urllib.parse\n",
    "import random\n",
    "from bs4 import BeautifulSoup as soup\n",
    "import csv\n",
    "%pip install seaborn\n",
    "import numpy as npy\n",
    "import pandas as pds\n",
    "import seaborn as sea\n",
    "import matplotlib.pyplot as plt\n",
    "%matplotlib inline\n",
    "from time import sleep\n",
    "import datetime\n",
    "\n",
    "# PART 1: Scraping data\n",
    "\n",
    "# opening up connection, grabbing page\n",
    "url = 'https://myanimelist.net/topanime.php?limit=0'\n",
    "# set up your list to be used to write to a file.\n",
    "rows = [['Rank', 'Title', 'Score', 'Your Score', 'Num Episodes', 'Air dates', 'Num Members', 'Genres', 'Status', 'Studios', 'Rating', 'Source']]\n",
    "#get top 100 anime from myAniList\n",
    "numList = [0, 50]\n",
    "new_URL_list = []\n",
    "\n",
    "for page in numList:\n",
    "    uClient = uReq(url + str(page))\n",
    "    page_html = uClient.read()\n",
    "    uClient.close()\n",
    "    # html parsing\n",
    "    page_soup = soup(page_html, \"html.parser\")\n",
    "    table = page_soup.find('table', attrs={'class': 'top-ranking-table'})\n",
    "    results = table.find_all('tr')\n",
    "\n",
    "    # you want to loop through all of the results\n",
    "    for result in results:\n",
    "        title = ''\n",
    "        # td because your categories are under 'td' class\n",
    "        data = result.find_all('td')\n",
    "        # gives you the td class info for rank, and gives you the rank\n",
    "        rank = data[0].getText().strip()\n",
    "\n",
    "        # obtain your title that's contained within the h3 class.\n",
    "        title_container = result.findAll(\"h3\", {\"class\": \"hoverinfo_trigger fl-l fs14 fw-b anime_ranking_h3\"})\n",
    "        # ensures that you don't look at your header, which would effectively be a NoneType for this situation\n",
    "        if title_container:\n",
    "            title = title_container[0].getText()\n",
    "        else:\n",
    "            continue\n",
    "\n",
    "        # gives you the td class info for score, and gives you the score\n",
    "        score = data[2].getText().strip()\n",
    "        your_score = data[3].getText().strip()\n",
    "\n",
    "        # Extra information about the anime\n",
    "        info_HTML = result.findAll(\"div\", {\"class\": \"information di-ib mt4\"})\n",
    "        info = info_HTML[0].getText().strip()\n",
    "        # separate info into 3 elements that go into a list\n",
    "        info_list = info.splitlines()\n",
    "        # cleaning up information\n",
    "        for i in range(len(info_list)):\n",
    "            info_list[i] = info_list[i].strip()\n",
    "            i += 1\n",
    "\n",
    "        num_episodes = info_list[0]\n",
    "        air_date = info_list[1]\n",
    "        num_members = info_list[2]\n",
    "\n",
    "        # getting more information and handling broken URLs\n",
    "        # For next 6 lines of code got help from StackOverflow because \n",
    "        # couldn't parse through some URLs. \n",
    "        # https://stackoverflow.com/questions/21628852/changing-hostname-in-a-url\n",
    "        # Comment author: Omid Raha. Author Page: https://stackoverflow.com/users/538284/omid-raha \n",
    "        new_url = result.a['href']\n",
    "        new_url = urllib.parse.urlsplit(new_url)\n",
    "        new_url = list(new_url)\n",
    "        new_url[2] = urllib.parse.quote(new_url[2])\n",
    "        new_url = urllib.parse.urlunsplit(new_url)\n",
    "        new_URL_list.append(new_url)\n",
    "\n",
    "        # dealing with a forbidden error bug:\n",
    "        # Used official python documentation for help with following\n",
    "        # 5 lines of code: https://docs.python.org/3/library/urllib.request.html\n",
    "        headers = {'User-Agent': 'Mozilla/5.0'}\n",
    "        request = urllib.request.Request(new_url, None, headers)\n",
    "        response = urllib.request.urlopen(request)\n",
    "        Page_html = response.read()\n",
    "        response.close()\n",
    "\n",
    "        # html parsing\n",
    "        Page_soup = soup(Page_html, \"html.parser\")\n",
    "        extra_info = Page_soup.find('td', attrs={'class': 'borderClass'})\n",
    "        # genres\n",
    "        genres_html = extra_info.findAll('span', attrs={'itemprop': 'genre'})\n",
    "        genres_list = []\n",
    "\n",
    "        for i in range(len(genres_html)):\n",
    "            genre = genres_html[i].getText()\n",
    "            genres_list.append(genre)\n",
    "        genres_string = \",\".join(genres_list)\n",
    "\n",
    "        # status\n",
    "        status = extra_info.select_one('span:-soup-contains(\"Status:\")').find_next_sibling(text=True).strip()\n",
    "        # Studios\n",
    "        if (extra_info.select_one('span:-soup-contains(\"Studios:\")').find_next_sibling().get('title') != None):\n",
    "            studios = extra_info.select_one('span:-soup-contains(\"Studios:\")').find_next_sibling().get('title')\n",
    "        else: \n",
    "            studios = None\n",
    "        # Rating\n",
    "        rating = extra_info.select_one('span:-soup-contains(\"Rating:\")').find_next_sibling(text=True).strip()\n",
    "        # source\n",
    "        source = extra_info.select_one('span:-soup-contains(\"Source:\")').find_next_sibling(text=True).strip()\n",
    "\n",
    "        sleep(random.randint(0,3))\n",
    "\n",
    "        # Writing to a CSV file\n",
    "        rows.append([rank, title, score, your_score, num_episodes, air_date, num_members, genres_string, status, studios, rating, source])\n",
    "\n",
    "        with open('topAnime.csv', 'w', encoding=\"utf-8\", newline='') as f_output:\n",
    "            csv_output = csv.writer(f_output)\n",
    "            csv_output.writerows(rows)\n"
   ]
  },
  {
   "cell_type": "code",
   "execution_count": 39,
   "metadata": {
    "pycharm": {
     "name": "#%%\n"
    }
   },
   "outputs": [],
   "source": [
    "# Part 2: Data Cleaning\n",
    "\n",
    "data = pds.read_csv(\"topAnime.csv\")\n",
    "# rename columns\n",
    "df = pds.DataFrame(data)\n",
    "df.columns = ['rank', 'title', 'score', 'your_score', 'num_episodes', 'air_dates', 'num_members', 'genres', 'status', 'studios', 'rating', 'source']"
   ]
  },
  {
   "cell_type": "code",
   "execution_count": 40,
   "metadata": {
    "pycharm": {
     "name": "#%%\n"
    }
   },
   "outputs": [
    {
     "data": {
      "text/plain": [
       "Index(['rank', 'title', 'score', 'num_episodes', 'air_dates', 'num_members',\n",
       "       'genres', 'status', 'studios', 'rating', 'source'],\n",
       "      dtype='object')"
      ]
     },
     "execution_count": 40,
     "metadata": {},
     "output_type": "execute_result"
    }
   ],
   "source": [
    "#dropping your_score column\n",
    "df.drop('your_score', axis = 1, inplace = True)\n",
    "df.columns\n"
   ]
  },
  {
   "cell_type": "code",
   "execution_count": 41,
   "metadata": {
    "pycharm": {
     "name": "#%%\n"
    }
   },
   "outputs": [],
   "source": [
    "#split Num episodes column to separate type and number\n",
    "newList = df[\"num_episodes\"].str.split(\" \", n = 1, expand = True)\n",
    "for i in range(len(newList[1])):\n",
    "    newList[1][i] = newList[1][i].strip('()')\n",
    "df[\"content_type\"] = newList[0]\n",
    "df[\"episode_count\"] = newList[1]\n",
    "df[\"episode_count\"].replace('\\D+', '', regex = True, inplace = True)\n",
    "df.drop(columns=[\"num_episodes\"], inplace = True)"
   ]
  },
  {
   "cell_type": "code",
   "execution_count": 42,
   "metadata": {},
   "outputs": [
    {
     "data": {
      "text/plain": [
       "0     [Action,Adventure,Comedy,Drama,Fantasy,Militar...\n",
       "1     [Action,Comedy,Sci-Fi,Historical,Parody,Samura...\n",
       "2     [Action,Drama,Fantasy,Mystery,Military,Super, ...\n",
       "3                 [Drama,Sci-Fi,Suspense,Psychological]\n",
       "4     [Comedy,Drama,Romance,Slice, of, Life,Supernat...\n",
       "                            ...                        \n",
       "95                 [Action,Drama,Sci-Fi,Mecha,Military]\n",
       "96    [Action,Comedy,Sci-Fi,Historical,Parody,Samura...\n",
       "97    [Action,Mystery,Sci-Fi,Mecha,Military,Police,S...\n",
       "98                       [Action,Comedy,School,Shounen]\n",
       "99    [Action,Comedy,Sci-Fi,Historical,Parody,Samura...\n",
       "Name: genres, Length: 100, dtype: object"
      ]
     },
     "execution_count": 42,
     "metadata": {},
     "output_type": "execute_result"
    }
   ],
   "source": [
    "# split genres column entries into a list of strings\n",
    "df[\"genres\"].str.split(pat = None, n = -1, expand = False)"
   ]
  },
  {
   "cell_type": "code",
   "execution_count": 43,
   "metadata": {},
   "outputs": [],
   "source": [
    "action_count = df['genres'].str.count(\"Action\").sum()\n",
    "drama_count = df['genres'].str.count(\"Drama\").sum()\n",
    "sof_count = df['genres'].str.count(\"Slice of Life\").sum()\n",
    "comedy_count = df['genres'].str.count(\"Comedy\").sum()\n",
    "adventure_count = df['genres'].str.count(\"Adventure\").sum()\n",
    "sci_fi_count = df['genres'].str.count(\"Sci-Fi\").sum()\n",
    "psychological_count = df['genres'].str.count(\"Psychological\").sum()\n",
    "horror_count = df['genres'].str.count(\"Horror\").sum()"
   ]
  },
  {
   "cell_type": "code",
   "execution_count": 44,
   "metadata": {},
   "outputs": [],
   "source": [
    "count_dict = {'Action': action_count, 'Drama': drama_count, 'Slice of Life': sof_count, 'Comedy': comedy_count, 'Adventure': adventure_count, 'Sci-Fi': sci_fi_count, 'Psychological': psychological_count, 'Horror': horror_count}"
   ]
  },
  {
   "cell_type": "code",
   "execution_count": 45,
   "metadata": {},
   "outputs": [
    {
     "name": "stdout",
     "output_type": "stream",
     "text": [
      "{'Action': 44, 'Drama': 55, 'Slice of Life': 22, 'Comedy': 36, 'Adventure': 20, 'Sci-Fi': 26, 'Psychological': 9, 'Horror': 2}\n"
     ]
    }
   ],
   "source": [
    "print(count_dict)"
   ]
  },
  {
   "cell_type": "code",
   "execution_count": 46,
   "metadata": {
    "pycharm": {
     "name": "#%%\n"
    }
   },
   "outputs": [],
   "source": [
    "#cleaning up num_members column\n",
    "df[\"num_members\"].replace('\\D+', '', regex = True, inplace = True)"
   ]
  },
  {
   "cell_type": "code",
   "execution_count": 47,
   "metadata": {
    "pycharm": {
     "name": "#%%\n"
    }
   },
   "outputs": [
    {
     "data": {
      "text/plain": [
       "rank             0\n",
       "title            0\n",
       "score            0\n",
       "air_dates        0\n",
       "num_members      0\n",
       "genres           0\n",
       "status           0\n",
       "studios          0\n",
       "rating           0\n",
       "source           0\n",
       "content_type     0\n",
       "episode_count    0\n",
       "dtype: int64"
      ]
     },
     "execution_count": 47,
     "metadata": {},
     "output_type": "execute_result"
    }
   ],
   "source": [
    "df.isnull().sum()\n",
    "# addressing null/empty values"
   ]
  },
  {
   "cell_type": "code",
   "execution_count": 48,
   "metadata": {
    "pycharm": {
     "name": "#%%\n"
    }
   },
   "outputs": [],
   "source": [
    "# modifying dates\n",
    "\n",
    "# split air_dates column into start and end date\n",
    "dateList = df[\"air_dates\"].str.split(\"-\", n = 1, expand = True)\n",
    "df['air_start_date'] = dateList[0]\n",
    "df['air_end_date'] = dateList[1]\n",
    "df.drop(columns = ['air_dates'], inplace = True)\n",
    "df.drop(columns = ['rank'], inplace = True)\n",
    "\n",
    "# changing dates to numerical notation\n",
    "df['air_start_date'] = pds.to_datetime(df['air_start_date'])\n",
    "df['air_start_date'] = df['air_start_date'].dt.date.apply(lambda x: x.strftime('%m-%Y') if pds.notnull(x) else npy.NaN)\n",
    "\n",
    "df['air_end_date'] = pds.Series(df['air_end_date'])\n",
    "df['air_end_date'] = pds.to_datetime(df['air_end_date'], errors = 'coerce')\n",
    "df['air_end_date'] = df['air_end_date'].dt.date.apply(lambda x: x.strftime('%m-%Y') if pds.notnull(x) else npy.NaN)"
   ]
  },
  {
   "cell_type": "code",
   "execution_count": 49,
   "metadata": {
    "pycharm": {
     "name": "#%%\n"
    }
   },
   "outputs": [],
   "source": [
    "# dropping air end date column\n",
    "df.isnull().sum()\n",
    "df.dropna(subset = ['air_end_date'], inplace = True)"
   ]
  },
  {
   "cell_type": "code",
   "execution_count": 50,
   "metadata": {
    "pycharm": {
     "name": "#%%\n"
    }
   },
   "outputs": [],
   "source": [
    "# define helper function to format times to be able to obtain time difference\n",
    "def time_diff(time_series):\n",
    "    return datetime.datetime.strptime(time_series, '%m-%Y')\n",
    "df['time_difference'] = df['air_end_date'].apply(time_diff) - df['air_start_date'].apply(time_diff)"
   ]
  },
  {
   "cell_type": "code",
   "execution_count": 51,
   "metadata": {
    "pycharm": {
     "name": "#%%\n"
    }
   },
   "outputs": [
    {
     "data": {
      "text/plain": [
       "title              0\n",
       "score              0\n",
       "num_members        0\n",
       "genres             0\n",
       "status             0\n",
       "studios            0\n",
       "rating             0\n",
       "source             0\n",
       "content_type       0\n",
       "episode_count      0\n",
       "air_start_date     0\n",
       "air_end_date       0\n",
       "time_difference    0\n",
       "dtype: int64"
      ]
     },
     "execution_count": 51,
     "metadata": {},
     "output_type": "execute_result"
    }
   ],
   "source": [
    "# checking null values\n",
    "df.isnull().sum()"
   ]
  },
  {
   "cell_type": "code",
   "execution_count": 52,
   "metadata": {},
   "outputs": [],
   "source": [
    "df = df.dropna()"
   ]
  },
  {
   "cell_type": "code",
   "execution_count": 53,
   "metadata": {
    "pycharm": {
     "name": "#%%\n"
    }
   },
   "outputs": [],
   "source": [
    "# getting time difference in days\n",
    "df['time_difference'] = df['time_difference'] / pds.to_timedelta(1, unit = 'D')"
   ]
  },
  {
   "cell_type": "code",
   "execution_count": 54,
   "metadata": {
    "pycharm": {
     "name": "#%%\n"
    }
   },
   "outputs": [],
   "source": [
    "# changing numbers' types to float\n",
    "df['num_members'] = df['num_members'].astype(float)\n",
    "df['episode_count'] = df['episode_count'].astype(float)"
   ]
  },
  {
   "cell_type": "code",
   "execution_count": 55,
   "metadata": {
    "pycharm": {
     "name": "#%%\n"
    }
   },
   "outputs": [
    {
     "name": "stdout",
     "output_type": "stream",
     "text": [
      "<class 'pandas.core.frame.DataFrame'>\n",
      "Int64Index: 95 entries, 0 to 99\n",
      "Data columns (total 13 columns):\n",
      " #   Column           Non-Null Count  Dtype  \n",
      "---  ------           --------------  -----  \n",
      " 0   title            95 non-null     object \n",
      " 1   score            95 non-null     float64\n",
      " 2   num_members      95 non-null     float64\n",
      " 3   genres           95 non-null     object \n",
      " 4   status           95 non-null     object \n",
      " 5   studios          95 non-null     object \n",
      " 6   rating           95 non-null     object \n",
      " 7   source           95 non-null     object \n",
      " 8   content_type     95 non-null     object \n",
      " 9   episode_count    95 non-null     float64\n",
      " 10  air_start_date   95 non-null     object \n",
      " 11  air_end_date     95 non-null     object \n",
      " 12  time_difference  95 non-null     float64\n",
      "dtypes: float64(4), object(9)\n",
      "memory usage: 10.4+ KB\n"
     ]
    }
   ],
   "source": [
    "df.info()"
   ]
  },
  {
   "cell_type": "code",
   "execution_count": 56,
   "metadata": {
    "pycharm": {
     "name": "#%%\n"
    }
   },
   "outputs": [
    {
     "data": {
      "text/plain": [
       "0"
      ]
     },
     "execution_count": 56,
     "metadata": {},
     "output_type": "execute_result"
    }
   ],
   "source": [
    "# checking for duplicates\n",
    "\n",
    "duplicates = df.duplicated()\n",
    "duplicates.sum()"
   ]
  },
  {
   "cell_type": "code",
   "execution_count": 57,
   "metadata": {
    "pycharm": {
     "name": "#%%\n"
    }
   },
   "outputs": [
    {
     "name": "stdout",
     "output_type": "stream",
     "text": [
      "<class 'pandas.core.frame.DataFrame'>\n",
      "Int64Index: 95 entries, 0 to 99\n",
      "Data columns (total 13 columns):\n",
      " #   Column           Non-Null Count  Dtype  \n",
      "---  ------           --------------  -----  \n",
      " 0   title            95 non-null     object \n",
      " 1   score            95 non-null     float64\n",
      " 2   num_members      95 non-null     float64\n",
      " 3   genres           95 non-null     object \n",
      " 4   status           95 non-null     object \n",
      " 5   studios          95 non-null     object \n",
      " 6   rating           95 non-null     object \n",
      " 7   source           95 non-null     object \n",
      " 8   content_type     95 non-null     object \n",
      " 9   episode_count    95 non-null     float64\n",
      " 10  air_start_date   95 non-null     object \n",
      " 11  air_end_date     95 non-null     object \n",
      " 12  time_difference  95 non-null     float64\n",
      "dtypes: float64(4), object(9)\n",
      "memory usage: 10.4+ KB\n"
     ]
    }
   ],
   "source": [
    "df.info()"
   ]
  },
  {
   "cell_type": "code",
   "execution_count": 58,
   "metadata": {
    "pycharm": {
     "name": "#%%\n"
    }
   },
   "outputs": [
    {
     "data": {
      "text/plain": [
       "PG-13 - Teens 13 or older         0.589474\n",
       "R - 17+ (violence & profanity)    0.347368\n",
       "R+ - Mild Nudity                  0.031579\n",
       "G - All Ages                      0.021053\n",
       "PG - Children                     0.010526\n",
       "Name: rating, dtype: float64"
      ]
     },
     "execution_count": 58,
     "metadata": {},
     "output_type": "execute_result"
    }
   ],
   "source": [
    "# Part 3: Data Analysis\n",
    "# getting porportions of each rating\n",
    "df.rating.value_counts(normalize = True)"
   ]
  },
  {
   "cell_type": "code",
   "execution_count": 59,
   "metadata": {
    "pycharm": {
     "name": "#%%\n"
    }
   },
   "outputs": [
    {
     "data": {
      "image/png": "[encoded data removed]",
      "text/plain": [
       "<Figure size 432x288 with 1 Axes>"
      ]
     },
     "metadata": {
      "needs_background": "light"
     },
     "output_type": "display_data"
    }
   ],
   "source": [
    "# plotting ratings\n",
    "df.rating.value_counts(normalize = True).plot.barh()\n",
    "plt.show()\n",
    "\n"
   ]
  },
  {
   "cell_type": "code",
   "execution_count": 60,
   "metadata": {},
   "outputs": [
    {
     "data": {
      "image/png": "[encoded data removed]",
      "text/plain": [
       "<Figure size 504x504 with 1 Axes>"
      ]
     },
     "metadata": {},
     "output_type": "display_data"
    }
   ],
   "source": [
    "df.rating.value_counts(normalize = True).plot.pie(title = \"Rating\", radius = 1.2, figsize = (7, 7), fontsize = 12)\n",
    "plt.show()"
   ]
  },
  {
   "cell_type": "code",
   "execution_count": 61,
   "metadata": {
    "pycharm": {
     "name": "#%%\n"
    }
   },
   "outputs": [
    {
     "data": {
      "text/plain": [
       "Manga           0.610526\n",
       "Original        0.147368\n",
       "Light novel     0.115789\n",
       "Novel           0.052632\n",
       "Visual novel    0.042105\n",
       "Web manga       0.031579\n",
       "Name: source, dtype: float64"
      ]
     },
     "execution_count": 61,
     "metadata": {},
     "output_type": "execute_result"
    }
   ],
   "source": [
    "# getting proportions of source material\n",
    "df.source.value_counts(normalize = True)"
   ]
  },
  {
   "cell_type": "code",
   "execution_count": 62,
   "metadata": {},
   "outputs": [
    {
     "data": {
      "text/plain": [
       "<function matplotlib.pyplot.show(close=None, block=None)>"
      ]
     },
     "execution_count": 62,
     "metadata": {},
     "output_type": "execute_result"
    },
    {
     "data": {
      "image/png": "[encoded data removed]",
      "text/plain": [
       "<Figure size 432x288 with 1 Axes>"
      ]
     },
     "metadata": {
      "needs_background": "light"
     },
     "output_type": "display_data"
    }
   ],
   "source": [
    "bar_x_axis = list(count_dict.keys())\n",
    "bar_y_axis = list(count_dict.values())\n",
    "plt.xticks(rotation=60, horizontalalignment='right', fontweight='light', fontsize='medium')\n",
    "plt.bar(bar_x_axis, bar_y_axis)\n",
    "plt.show\n"
   ]
  },
  {
   "cell_type": "code",
   "execution_count": 63,
   "metadata": {},
   "outputs": [
    {
     "data": {
      "image/png": "[encoded data removed]",
      "text/plain": [
       "<Figure size 432x288 with 1 Axes>"
      ]
     },
     "metadata": {
      "needs_background": "light"
     },
     "output_type": "display_data"
    }
   ],
   "source": [
    "# plotting ratings\n",
    "df.source.value_counts(normalize = True).plot.barh()\n",
    "plt.show()"
   ]
  },
  {
   "cell_type": "code",
   "execution_count": 64,
   "metadata": {
    "pycharm": {
     "name": "#%%\n"
    }
   },
   "outputs": [
    {
     "data": {
      "image/png": "[encoded data removed]",
      "text/plain": [
       "<Figure size 504x504 with 1 Axes>"
      ]
     },
     "metadata": {},
     "output_type": "display_data"
    }
   ],
   "source": [
    "# plotting proportions of source material\n",
    "df.source.value_counts(normalize = True).plot.pie(title = \"Source\", radius = 1.2, figsize = (7, 7), fontsize = 12)\n",
    "plt.ylabel(\"\")\n",
    "plt.show()"
   ]
  },
  {
   "cell_type": "code",
   "execution_count": 65,
   "metadata": {
    "pycharm": {
     "name": "#%%\n"
    }
   },
   "outputs": [
    {
     "data": {
      "text/plain": [
       "count    95.000000\n",
       "mean      8.733474\n",
       "std       0.169120\n",
       "min       8.520000\n",
       "25%       8.585000\n",
       "50%       8.690000\n",
       "75%       8.825000\n",
       "max       9.150000\n",
       "Name: score, dtype: float64"
      ]
     },
     "execution_count": 65,
     "metadata": {},
     "output_type": "execute_result"
    }
   ],
   "source": [
    "# getting statistics about score\n",
    "df.score.describe()"
   ]
  },
  {
   "cell_type": "code",
   "execution_count": 66,
   "metadata": {
    "pycharm": {
     "name": "#%%\n"
    }
   },
   "outputs": [
    {
     "data": {
      "text/plain": [
       "count      95.000000\n",
       "mean      180.136842\n",
       "std       396.887052\n",
       "min         0.000000\n",
       "25%         0.000000\n",
       "50%        62.000000\n",
       "75%       153.000000\n",
       "max      3347.000000\n",
       "Name: time_difference, dtype: float64"
      ]
     },
     "execution_count": 66,
     "metadata": {},
     "output_type": "execute_result"
    }
   ],
   "source": [
    "# getting statistics about time difference\n",
    "df.time_difference.describe()\n"
   ]
  },
  {
   "cell_type": "code",
   "execution_count": 67,
   "metadata": {},
   "outputs": [
    {
     "data": {
      "text/plain": [
       "count     95.000000\n",
       "mean      21.210526\n",
       "std       30.510861\n",
       "min        1.000000\n",
       "25%        1.000000\n",
       "50%       13.000000\n",
       "75%       25.000000\n",
       "max      201.000000\n",
       "Name: episode_count, dtype: float64"
      ]
     },
     "execution_count": 67,
     "metadata": {},
     "output_type": "execute_result"
    }
   ],
   "source": [
    "df.episode_count.describe()"
   ]
  },
  {
   "cell_type": "code",
   "execution_count": 68,
   "metadata": {},
   "outputs": [
    {
     "data": {
      "text/plain": [
       "count    9.500000e+01\n",
       "mean     7.195140e+05\n",
       "std      6.723866e+05\n",
       "min      3.804000e+04\n",
       "25%      2.239490e+05\n",
       "50%      4.090930e+05\n",
       "75%      1.042660e+06\n",
       "max      3.202989e+06\n",
       "Name: num_members, dtype: float64"
      ]
     },
     "execution_count": 68,
     "metadata": {},
     "output_type": "execute_result"
    }
   ],
   "source": [
    "df.num_members.describe()"
   ]
  },
  {
   "cell_type": "code",
   "execution_count": 69,
   "metadata": {
    "pycharm": {
     "name": "#%%\n"
    }
   },
   "outputs": [
    {
     "data": {
      "text/plain": [
       "<AxesSubplot:xlabel='episode_count', ylabel='score'>"
      ]
     },
     "execution_count": 69,
     "metadata": {},
     "output_type": "execute_result"
    },
    {
     "data": {
      "image/png": "[encoded data removed]",
      "text/plain": [
       "<Figure size 432x288 with 1 Axes>"
      ]
     },
     "metadata": {
      "needs_background": "light"
     },
     "output_type": "display_data"
    }
   ],
   "source": [
    "# generating scatter plot between episode count and score\n",
    "df.plot.scatter(x = \"episode_count\", y = \"score\")"
   ]
  },
  {
   "cell_type": "code",
   "execution_count": 70,
   "metadata": {},
   "outputs": [
    {
     "data": {
      "text/plain": [
       "<AxesSubplot:xlabel='time_difference', ylabel='score'>"
      ]
     },
     "execution_count": 70,
     "metadata": {},
     "output_type": "execute_result"
    },
    {
     "data": {
      "image/png": "[encoded data removed]",
      "text/plain": [
       "<Figure size 432x288 with 1 Axes>"
      ]
     },
     "metadata": {
      "needs_background": "light"
     },
     "output_type": "display_data"
    }
   ],
   "source": [
    "df.plot.scatter(x = \"time_difference\", y = \"score\")"
   ]
  },
  {
   "cell_type": "code",
   "execution_count": 71,
   "metadata": {},
   "outputs": [
    {
     "data": {
      "text/plain": [
       "<AxesSubplot:xlabel='num_members', ylabel='score'>"
      ]
     },
     "execution_count": 71,
     "metadata": {},
     "output_type": "execute_result"
    },
    {
     "data": {
      "image/png": "[encoded data removed]",
      "text/plain": [
       "<Figure size 432x288 with 1 Axes>"
      ]
     },
     "metadata": {
      "needs_background": "light"
     },
     "output_type": "display_data"
    }
   ],
   "source": [
    "df.plot.scatter(x = \"num_members\", y = \"score\")"
   ]
  },
  {
   "cell_type": "code",
   "execution_count": 72,
   "metadata": {
    "pycharm": {
     "name": "#%%\n"
    }
   },
   "outputs": [
    {
     "name": "stderr",
     "output_type": "stream",
     "text": [
      "/Library/Frameworks/Python.framework/Versions/3.8/lib/python3.8/site-packages/seaborn/_decorators.py:36: FutureWarning: Pass the following variables as keyword args: x, y. From version 0.12, the only valid positional argument will be `data`, and passing other arguments without an explicit keyword will result in an error or misinterpretation.\n",
      "  warnings.warn(\n"
     ]
    },
    {
     "data": {
      "text/plain": [
       "<AxesSubplot:xlabel='score', ylabel='rating'>"
      ]
     },
     "execution_count": 72,
     "metadata": {},
     "output_type": "execute_result"
    },
    {
     "data": {
      "image/png": "[encoded data removed]",
      "text/plain": [
       "<Figure size 432x288 with 1 Axes>"
      ]
     },
     "metadata": {
      "needs_background": "light"
     },
     "output_type": "display_data"
    }
   ],
   "source": [
    "# generating boxplot between score and rating\n",
    "sea.boxplot(df.score, df.rating)"
   ]
  },
  {
   "cell_type": "code",
   "execution_count": 73,
   "metadata": {
    "pycharm": {
     "name": "#%%\n"
    }
   },
   "outputs": [
    {
     "data": {
      "text/html": [
       "<div>\n",
       "<style scoped>\n",
       "    .dataframe tbody tr th:only-of-type {\n",
       "        vertical-align: middle;\n",
       "    }\n",
       "\n",
       "    .dataframe tbody tr th {\n",
       "        vertical-align: top;\n",
       "    }\n",
       "\n",
       "    .dataframe thead th {\n",
       "        text-align: right;\n",
       "    }\n",
       "</style>\n",
       "<table border=\"1\" class=\"dataframe\">\n",
       "  <thead>\n",
       "    <tr style=\"text-align: right;\">\n",
       "      <th></th>\n",
       "      <th>episode_count</th>\n",
       "      <th>score</th>\n",
       "      <th>num_members</th>\n",
       "      <th>time_difference</th>\n",
       "    </tr>\n",
       "  </thead>\n",
       "  <tbody>\n",
       "    <tr>\n",
       "      <th>episode_count</th>\n",
       "      <td>1.000000</td>\n",
       "      <td>0.293131</td>\n",
       "      <td>0.192618</td>\n",
       "      <td>0.766370</td>\n",
       "    </tr>\n",
       "    <tr>\n",
       "      <th>score</th>\n",
       "      <td>0.293131</td>\n",
       "      <td>1.000000</td>\n",
       "      <td>0.218584</td>\n",
       "      <td>0.280245</td>\n",
       "    </tr>\n",
       "    <tr>\n",
       "      <th>num_members</th>\n",
       "      <td>0.192618</td>\n",
       "      <td>0.218584</td>\n",
       "      <td>1.000000</td>\n",
       "      <td>0.052019</td>\n",
       "    </tr>\n",
       "    <tr>\n",
       "      <th>time_difference</th>\n",
       "      <td>0.766370</td>\n",
       "      <td>0.280245</td>\n",
       "      <td>0.052019</td>\n",
       "      <td>1.000000</td>\n",
       "    </tr>\n",
       "  </tbody>\n",
       "</table>\n",
       "</div>"
      ],
      "text/plain": [
       "                 episode_count     score  num_members  time_difference\n",
       "episode_count         1.000000  0.293131     0.192618         0.766370\n",
       "score                 0.293131  1.000000     0.218584         0.280245\n",
       "num_members           0.192618  0.218584     1.000000         0.052019\n",
       "time_difference       0.766370  0.280245     0.052019         1.000000"
      ]
     },
     "execution_count": 73,
     "metadata": {},
     "output_type": "execute_result"
    }
   ],
   "source": [
    "# setting up correlation matrix\n",
    "df[['episode_count', 'score', 'num_members', 'time_difference']].corr()"
   ]
  },
  {
   "cell_type": "code",
   "execution_count": 74,
   "metadata": {
    "pycharm": {
     "name": "#%%\n"
    }
   },
   "outputs": [
    {
     "data": {
      "text/plain": [
       "<AxesSubplot:>"
      ]
     },
     "execution_count": 74,
     "metadata": {},
     "output_type": "execute_result"
    },
    {
     "data": {
      "image/png": "[encoded data removed]",
      "text/plain": [
       "<Figure size 432x288 with 2 Axes>"
      ]
     },
     "metadata": {
      "needs_background": "light"
     },
     "output_type": "display_data"
    }
   ],
   "source": [
    "# generating heatmap from correlation matrix\n",
    "sea.heatmap(df[['episode_count', 'score', 'num_members', 'time_difference']].corr(), annot = True, cmap = 'Reds')"
   ]
  }
 ],
 "metadata": {
  "anaconda-cloud": {},
  "interpreter": {
   "hash": "aee8b7b246df8f9039afb4144a1f6fd8d2ca17a180786b69acc140d282b71a49"
  },
  "kernelspec": {
   "display_name": "Python 3.8.7 64-bit",
   "name": "python3"
  },
  "language_info": {
   "codemirror_mode": {
    "name": "ipython",
    "version": 3
   },
   "file_extension": ".py",
   "mimetype": "text/x-python",
   "name": "python",
   "nbconvert_exporter": "python",
   "pygments_lexer": "ipython3",
   "version": "3.8.7"
  }
 },
 "nbformat": 4,
 "nbformat_minor": 4
}
