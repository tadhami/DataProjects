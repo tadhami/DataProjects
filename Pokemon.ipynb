{
 "cells": [
  {
   "cell_type": "code",
   "execution_count": 3,
   "metadata": {},
   "outputs": [
    {
     "name": "stdout",
     "output_type": "stream",
     "text": [
      "Requirement already satisfied: seaborn in /Library/Frameworks/Python.framework/Versions/3.8/lib/python3.8/site-packages (0.11.1)\n",
      "Requirement already satisfied: numpy>=1.15 in /Library/Frameworks/Python.framework/Versions/3.8/lib/python3.8/site-packages (from seaborn) (1.20.3)\n",
      "Requirement already satisfied: scipy>=1.0 in /Library/Frameworks/Python.framework/Versions/3.8/lib/python3.8/site-packages (from seaborn) (1.7.0)\n",
      "Requirement already satisfied: pandas>=0.23 in /Library/Frameworks/Python.framework/Versions/3.8/lib/python3.8/site-packages (from seaborn) (1.2.4)\n",
      "Requirement already satisfied: matplotlib>=2.2 in /Library/Frameworks/Python.framework/Versions/3.8/lib/python3.8/site-packages (from seaborn) (3.4.2)\n",
      "Requirement already satisfied: pillow>=6.2.0 in /Library/Frameworks/Python.framework/Versions/3.8/lib/python3.8/site-packages (from matplotlib>=2.2->seaborn) (8.3.1)\n",
      "Requirement already satisfied: python-dateutil>=2.7 in /Library/Frameworks/Python.framework/Versions/3.8/lib/python3.8/site-packages (from matplotlib>=2.2->seaborn) (2.8.1)\n",
      "Requirement already satisfied: cycler>=0.10 in /Library/Frameworks/Python.framework/Versions/3.8/lib/python3.8/site-packages (from matplotlib>=2.2->seaborn) (0.10.0)\n",
      "Requirement already satisfied: kiwisolver>=1.0.1 in /Library/Frameworks/Python.framework/Versions/3.8/lib/python3.8/site-packages (from matplotlib>=2.2->seaborn) (1.3.1)\n",
      "Requirement already satisfied: pyparsing>=2.2.1 in /Library/Frameworks/Python.framework/Versions/3.8/lib/python3.8/site-packages (from matplotlib>=2.2->seaborn) (2.4.7)\n",
      "Requirement already satisfied: six in /Library/Frameworks/Python.framework/Versions/3.8/lib/python3.8/site-packages (from cycler>=0.10->matplotlib>=2.2->seaborn) (1.16.0)\n",
      "Requirement already satisfied: pytz>=2017.3 in /Library/Frameworks/Python.framework/Versions/3.8/lib/python3.8/site-packages (from pandas>=0.23->seaborn) (2021.1)\n",
      "\u001b[33mWARNING: You are using pip version 21.1.1; however, version 21.3.1 is available.\n",
      "You should consider upgrading via the '/usr/local/bin/python3 -m pip install --upgrade pip' command.\u001b[0m\n",
      "Note: you may need to restart the kernel to use updated packages.\n"
     ]
    }
   ],
   "source": [
    "%pip install seaborn\n",
    "import numpy as np\n",
    "import pandas as pd\n",
    "import seaborn as sns\n",
    "import matplotlib.pyplot as plt\n",
    "%matplotlib inline\n",
    "# dataset\n",
    "#https://www.kaggle.com/mrdew25/pokemon-database"
   ]
  },
  {
   "cell_type": "code",
   "execution_count": 4,
   "metadata": {},
   "outputs": [
    {
     "data": {
      "text/html": [
       "<div>\n",
       "<style scoped>\n",
       "    .dataframe tbody tr th:only-of-type {\n",
       "        vertical-align: middle;\n",
       "    }\n",
       "\n",
       "    .dataframe tbody tr th {\n",
       "        vertical-align: top;\n",
       "    }\n",
       "\n",
       "    .dataframe thead th {\n",
       "        text-align: right;\n",
       "    }\n",
       "</style>\n",
       "<table border=\"1\" class=\"dataframe\">\n",
       "  <thead>\n",
       "    <tr style=\"text-align: right;\">\n",
       "      <th></th>\n",
       "      <th>Pokemon_Id</th>\n",
       "      <th>Pokedex_Number</th>\n",
       "      <th>Pokemon_Name</th>\n",
       "      <th>Classification</th>\n",
       "      <th>Alternate_Form_Name</th>\n",
       "      <th>Original_Pokemon_ID</th>\n",
       "      <th>Legendary_Type</th>\n",
       "      <th>Pokemon_Height</th>\n",
       "      <th>Pokemon_Weight</th>\n",
       "      <th>Primary_Type</th>\n",
       "      <th>...</th>\n",
       "      <th>EV_Yield_Total</th>\n",
       "      <th>Catch_Rate</th>\n",
       "      <th>Experience_Growth</th>\n",
       "      <th>Experience_Growth_Total</th>\n",
       "      <th>Experience_Yield</th>\n",
       "      <th>Primary_Egg_Group</th>\n",
       "      <th>Secondary_Egg_Group</th>\n",
       "      <th>Egg_Cycle_Count</th>\n",
       "      <th>Pre-Evolution_Pokemon_Id</th>\n",
       "      <th>Evolution_Details</th>\n",
       "    </tr>\n",
       "  </thead>\n",
       "  <tbody>\n",
       "    <tr>\n",
       "      <th>0</th>\n",
       "      <td>1</td>\n",
       "      <td>1</td>\n",
       "      <td>\"Bulbasaur\"</td>\n",
       "      <td>\"Seed Pokemon\"</td>\n",
       "      <td>NaN</td>\n",
       "      <td>NaN</td>\n",
       "      <td>NaN</td>\n",
       "      <td>0.7</td>\n",
       "      <td>6.9</td>\n",
       "      <td>\"Grass\"</td>\n",
       "      <td>...</td>\n",
       "      <td>1</td>\n",
       "      <td>45</td>\n",
       "      <td>\"Medium Slow\"</td>\n",
       "      <td>1059860</td>\n",
       "      <td>64</td>\n",
       "      <td>\"Monster\"</td>\n",
       "      <td>\"Grass\"</td>\n",
       "      <td>20</td>\n",
       "      <td>NaN</td>\n",
       "      <td>NaN</td>\n",
       "    </tr>\n",
       "    <tr>\n",
       "      <th>1</th>\n",
       "      <td>2</td>\n",
       "      <td>2</td>\n",
       "      <td>\"Ivysaur\"</td>\n",
       "      <td>\"Seed Pokemon\"</td>\n",
       "      <td>NaN</td>\n",
       "      <td>NaN</td>\n",
       "      <td>NaN</td>\n",
       "      <td>1.0</td>\n",
       "      <td>13.0</td>\n",
       "      <td>\"Grass\"</td>\n",
       "      <td>...</td>\n",
       "      <td>2</td>\n",
       "      <td>45</td>\n",
       "      <td>\"Medium Slow\"</td>\n",
       "      <td>1059860</td>\n",
       "      <td>142</td>\n",
       "      <td>\"Monster\"</td>\n",
       "      <td>\"Grass\"</td>\n",
       "      <td>20</td>\n",
       "      <td>1.0</td>\n",
       "      <td>\"Level 16\"</td>\n",
       "    </tr>\n",
       "    <tr>\n",
       "      <th>2</th>\n",
       "      <td>3</td>\n",
       "      <td>3</td>\n",
       "      <td>\"Venusaur\"</td>\n",
       "      <td>\"Seed Pokemon\"</td>\n",
       "      <td>NaN</td>\n",
       "      <td>NaN</td>\n",
       "      <td>NaN</td>\n",
       "      <td>2.0</td>\n",
       "      <td>100.0</td>\n",
       "      <td>\"Grass\"</td>\n",
       "      <td>...</td>\n",
       "      <td>3</td>\n",
       "      <td>45</td>\n",
       "      <td>\"Medium Slow\"</td>\n",
       "      <td>1059860</td>\n",
       "      <td>236</td>\n",
       "      <td>\"Monster\"</td>\n",
       "      <td>\"Grass\"</td>\n",
       "      <td>20</td>\n",
       "      <td>2.0</td>\n",
       "      <td>\"Level 32\"</td>\n",
       "    </tr>\n",
       "    <tr>\n",
       "      <th>3</th>\n",
       "      <td>4</td>\n",
       "      <td>3</td>\n",
       "      <td>\"Venusaur\"</td>\n",
       "      <td>\"Seed Pokemon\"</td>\n",
       "      <td>\"Mega\"</td>\n",
       "      <td>3.0</td>\n",
       "      <td>NaN</td>\n",
       "      <td>2.4</td>\n",
       "      <td>155.5</td>\n",
       "      <td>\"Grass\"</td>\n",
       "      <td>...</td>\n",
       "      <td>3</td>\n",
       "      <td>45</td>\n",
       "      <td>\"Medium Slow\"</td>\n",
       "      <td>1059860</td>\n",
       "      <td>281</td>\n",
       "      <td>\"Monster\"</td>\n",
       "      <td>\"Grass\"</td>\n",
       "      <td>20</td>\n",
       "      <td>NaN</td>\n",
       "      <td>NaN</td>\n",
       "    </tr>\n",
       "    <tr>\n",
       "      <th>4</th>\n",
       "      <td>5</td>\n",
       "      <td>4</td>\n",
       "      <td>\"Charmander\"</td>\n",
       "      <td>\"Lizard Pokemon\"</td>\n",
       "      <td>NaN</td>\n",
       "      <td>NaN</td>\n",
       "      <td>NaN</td>\n",
       "      <td>0.6</td>\n",
       "      <td>8.5</td>\n",
       "      <td>\"Fire\"</td>\n",
       "      <td>...</td>\n",
       "      <td>1</td>\n",
       "      <td>45</td>\n",
       "      <td>\"Medium Slow\"</td>\n",
       "      <td>1059860</td>\n",
       "      <td>62</td>\n",
       "      <td>\"Monster\"</td>\n",
       "      <td>\"Dragon\"</td>\n",
       "      <td>20</td>\n",
       "      <td>NaN</td>\n",
       "      <td>NaN</td>\n",
       "    </tr>\n",
       "  </tbody>\n",
       "</table>\n",
       "<p>5 rows × 47 columns</p>\n",
       "</div>"
      ],
      "text/plain": [
       "   Pokemon_Id  Pokedex_Number  Pokemon_Name    Classification  \\\n",
       "0           1               1   \"Bulbasaur\"    \"Seed Pokemon\"   \n",
       "1           2               2     \"Ivysaur\"    \"Seed Pokemon\"   \n",
       "2           3               3    \"Venusaur\"    \"Seed Pokemon\"   \n",
       "3           4               3    \"Venusaur\"    \"Seed Pokemon\"   \n",
       "4           5               4  \"Charmander\"  \"Lizard Pokemon\"   \n",
       "\n",
       "  Alternate_Form_Name  Original_Pokemon_ID Legendary_Type  Pokemon_Height  \\\n",
       "0                 NaN                  NaN            NaN             0.7   \n",
       "1                 NaN                  NaN            NaN             1.0   \n",
       "2                 NaN                  NaN            NaN             2.0   \n",
       "3              \"Mega\"                  3.0            NaN             2.4   \n",
       "4                 NaN                  NaN            NaN             0.6   \n",
       "\n",
       "   Pokemon_Weight Primary_Type  ... EV_Yield_Total Catch_Rate  \\\n",
       "0             6.9      \"Grass\"  ...              1         45   \n",
       "1            13.0      \"Grass\"  ...              2         45   \n",
       "2           100.0      \"Grass\"  ...              3         45   \n",
       "3           155.5      \"Grass\"  ...              3         45   \n",
       "4             8.5       \"Fire\"  ...              1         45   \n",
       "\n",
       "  Experience_Growth Experience_Growth_Total Experience_Yield  \\\n",
       "0     \"Medium Slow\"                 1059860               64   \n",
       "1     \"Medium Slow\"                 1059860              142   \n",
       "2     \"Medium Slow\"                 1059860              236   \n",
       "3     \"Medium Slow\"                 1059860              281   \n",
       "4     \"Medium Slow\"                 1059860               62   \n",
       "\n",
       "  Primary_Egg_Group Secondary_Egg_Group Egg_Cycle_Count  \\\n",
       "0         \"Monster\"             \"Grass\"              20   \n",
       "1         \"Monster\"             \"Grass\"              20   \n",
       "2         \"Monster\"             \"Grass\"              20   \n",
       "3         \"Monster\"             \"Grass\"              20   \n",
       "4         \"Monster\"            \"Dragon\"              20   \n",
       "\n",
       "  Pre-Evolution_Pokemon_Id  Evolution_Details  \n",
       "0                      NaN                NaN  \n",
       "1                      1.0         \"Level 16\"  \n",
       "2                      2.0         \"Level 32\"  \n",
       "3                      NaN                NaN  \n",
       "4                      NaN                NaN  \n",
       "\n",
       "[5 rows x 47 columns]"
      ]
     },
     "execution_count": 4,
     "metadata": {},
     "output_type": "execute_result"
    }
   ],
   "source": [
    "data = pd.read_csv(\"Pokemon_Database.csv\")\n",
    "data\n",
    "data.columns = data.columns.str.replace(' ', '_')\n",
    "data.head()\n"
   ]
  },
  {
   "cell_type": "code",
   "execution_count": 5,
   "metadata": {},
   "outputs": [
    {
     "data": {
      "text/plain": [
       "Index(['Pokemon_Id', 'Pokedex_Number', 'Pokemon_Name', 'Classification',\n",
       "       'Alternate_Form_Name', 'Original_Pokemon_ID', 'Legendary_Type',\n",
       "       'Pokemon_Height', 'Pokemon_Weight', 'Primary_Type', 'Secondary_Type',\n",
       "       'Primary_Ability', 'Primary_Ability_Description', 'Secondary_Ability',\n",
       "       'Secondary_Ability_Description', 'Hidden_Ability',\n",
       "       'Hidden_Ability_Description', 'Special_Event_Ability',\n",
       "       'Special_Event_Ability_Description', 'Male_Ratio', 'Female_Ratio',\n",
       "       'Base_Happiness', 'Game_of_Origin', 'Region_of_Origin', 'Health_Stat',\n",
       "       'Attack_Stat', 'Defense_Stat', 'Special_Attack_Stat',\n",
       "       'Special_Defense_Stat', 'Speed_Stat', 'Base_Stat_Total', 'Health_EV',\n",
       "       'Attack_EV', 'Defense_EV', 'Special_Attack_EV', 'Special_Defense_EV',\n",
       "       'Speed_EV', 'EV_Yield_Total', 'Catch_Rate', 'Experience_Growth',\n",
       "       'Experience_Growth_Total', 'Experience_Yield', 'Primary_Egg_Group',\n",
       "       'Secondary_Egg_Group', 'Egg_Cycle_Count', 'Pre-Evolution_Pokemon_Id',\n",
       "       'Evolution_Details'],\n",
       "      dtype='object')"
      ]
     },
     "execution_count": 5,
     "metadata": {},
     "output_type": "execute_result"
    }
   ],
   "source": [
    "data.columns"
   ]
  },
  {
   "cell_type": "code",
   "execution_count": 6,
   "metadata": {},
   "outputs": [],
   "source": [
    "# drop Evolution_Details column\n",
    "data.drop('Evolution_Details', axis = 1, inplace = True)"
   ]
  },
  {
   "cell_type": "code",
   "execution_count": 7,
   "metadata": {},
   "outputs": [
    {
     "data": {
      "text/plain": [
       "Pokemon_Id                              0\n",
       "Pokedex_Number                          0\n",
       "Pokemon_Name                            0\n",
       "Classification                          0\n",
       "Alternate_Form_Name                   898\n",
       "Original_Pokemon_ID                   898\n",
       "Legendary_Type                        949\n",
       "Pokemon_Height                          0\n",
       "Pokemon_Weight                          0\n",
       "Primary_Type                            0\n",
       "Secondary_Type                        508\n",
       "Primary_Ability                         0\n",
       "Primary_Ability_Description             0\n",
       "Secondary_Ability                     540\n",
       "Secondary_Ability_Description         540\n",
       "Hidden_Ability                        236\n",
       "Hidden_Ability_Description            236\n",
       "Special_Event_Ability                1074\n",
       "Special_Event_Ability_Description    1074\n",
       "Male_Ratio                              0\n",
       "Female_Ratio                            0\n",
       "Base_Happiness                          0\n",
       "Game_of_Origin                          0\n",
       "Region_of_Origin                        0\n",
       "Health_Stat                             0\n",
       "Attack_Stat                             0\n",
       "Defense_Stat                            0\n",
       "Special_Attack_Stat                     0\n",
       "Special_Defense_Stat                    0\n",
       "Speed_Stat                              0\n",
       "Base_Stat_Total                         0\n",
       "Health_EV                               0\n",
       "Attack_EV                               0\n",
       "Defense_EV                              0\n",
       "Special_Attack_EV                       0\n",
       "Special_Defense_EV                      0\n",
       "Speed_EV                                0\n",
       "EV_Yield_Total                          0\n",
       "Catch_Rate                              0\n",
       "Experience_Growth                       0\n",
       "Experience_Growth_Total                 0\n",
       "Experience_Yield                        0\n",
       "Primary_Egg_Group                       0\n",
       "Secondary_Egg_Group                   775\n",
       "Egg_Cycle_Count                         0\n",
       "Pre-Evolution_Pokemon_Id              618\n",
       "dtype: int64"
      ]
     },
     "execution_count": 7,
     "metadata": {},
     "output_type": "execute_result"
    }
   ],
   "source": [
    "data.isnull().sum()"
   ]
  },
  {
   "cell_type": "code",
   "execution_count": 8,
   "metadata": {},
   "outputs": [],
   "source": [
    "data.drop('Special_Event_Ability_Description', axis = 1, inplace = True)"
   ]
  },
  {
   "cell_type": "code",
   "execution_count": 9,
   "metadata": {},
   "outputs": [],
   "source": [
    "data.drop('Special_Event_Ability', axis = 1, inplace = True)"
   ]
  },
  {
   "cell_type": "code",
   "execution_count": 10,
   "metadata": {},
   "outputs": [
    {
     "data": {
      "image/png": "[encoded data removed]",
      "text/plain": [
       "<Figure size 432x288 with 1 Axes>"
      ]
     },
     "metadata": {
      "needs_background": "light"
     },
     "output_type": "display_data"
    }
   ],
   "source": [
    "data.columns\n",
    "data.Primary_Type.value_counts(normalize=True)\n",
    "data.Primary_Type.value_counts(normalize=True).plot.barh()\n",
    "plt.show()\n",
    "# Generating a plot of primary types"
   ]
  },
  {
   "cell_type": "code",
   "execution_count": 11,
   "metadata": {},
   "outputs": [
    {
     "data": {
      "text/plain": [
       "Index(['Pokemon_Id', 'Pokedex_Number', 'Pokemon_Name', 'Classification',\n",
       "       'Alternate_Form_Name', 'Original_Pokemon_ID', 'Legendary_Type',\n",
       "       'Pokemon_Height', 'Pokemon_Weight', 'Primary_Type', 'Secondary_Type',\n",
       "       'Primary_Ability', 'Primary_Ability_Description', 'Secondary_Ability',\n",
       "       'Secondary_Ability_Description', 'Hidden_Ability',\n",
       "       'Hidden_Ability_Description', 'Male_Ratio', 'Female_Ratio',\n",
       "       'Base_Happiness', 'Game_of_Origin', 'Region_of_Origin', 'Health_Stat',\n",
       "       'Attack_Stat', 'Defense_Stat', 'Special_Attack_Stat',\n",
       "       'Special_Defense_Stat', 'Speed_Stat', 'Base_Stat_Total', 'Health_EV',\n",
       "       'Attack_EV', 'Defense_EV', 'Special_Attack_EV', 'Special_Defense_EV',\n",
       "       'Speed_EV', 'EV_Yield_Total', 'Catch_Rate', 'Experience_Growth',\n",
       "       'Experience_Growth_Total', 'Experience_Yield', 'Primary_Egg_Group',\n",
       "       'Secondary_Egg_Group', 'Egg_Cycle_Count', 'Pre-Evolution_Pokemon_Id'],\n",
       "      dtype='object')"
      ]
     },
     "execution_count": 11,
     "metadata": {},
     "output_type": "execute_result"
    }
   ],
   "source": [
    "data.columns"
   ]
  },
  {
   "cell_type": "code",
   "execution_count": 12,
   "metadata": {},
   "outputs": [
    {
     "data": {
      "text/plain": [
       "0          \"Grass\"\n",
       "1          \"Grass\"\n",
       "2          \"Grass\"\n",
       "3          \"Grass\"\n",
       "4           \"Fire\"\n",
       "           ...    \n",
       "1071    \"Fighting\"\n",
       "1072         \"Ice\"\n",
       "1073       \"Ghost\"\n",
       "1074     \"Psychic\"\n",
       "1075     \"Psychic\"\n",
       "Name: Primary_Type, Length: 1076, dtype: object"
      ]
     },
     "execution_count": 12,
     "metadata": {},
     "output_type": "execute_result"
    }
   ],
   "source": [
    "data.Primary_Type"
   ]
  },
  {
   "cell_type": "code",
   "execution_count": 13,
   "metadata": {},
   "outputs": [
    {
     "data": {
      "image/png": "[encoded data removed]",
      "text/plain": [
       "<Figure size 432x288 with 1 Axes>"
      ]
     },
     "metadata": {
      "needs_background": "light"
     },
     "output_type": "display_data"
    }
   ],
   "source": [
    "data.Game_of_Origin.value_counts(normalize=True)\n",
    "data.Game_of_Origin.value_counts(normalize=True).plot.barh(title = 'Game of Origin')\n",
    "plt.show()\n",
    "# Looking at source games for the Pokemon in the dataset"
   ]
  },
  {
   "cell_type": "code",
   "execution_count": 14,
   "metadata": {},
   "outputs": [
    {
     "data": {
      "text/plain": [
       "count    1076.000000\n",
       "mean        2.193494\n",
       "std         5.931669\n",
       "min         0.100000\n",
       "25%         0.600000\n",
       "50%         1.000000\n",
       "75%         1.600000\n",
       "max       100.000000\n",
       "Name: Pokemon_Height, dtype: float64"
      ]
     },
     "execution_count": 14,
     "metadata": {},
     "output_type": "execute_result"
    }
   ],
   "source": [
    "data.Pokemon_Height.describe()"
   ]
  },
  {
   "cell_type": "code",
   "execution_count": 15,
   "metadata": {},
   "outputs": [
    {
     "data": {
      "text/plain": [
       "count    1076.000000\n",
       "mean       68.244703\n",
       "std       128.922695\n",
       "min         0.000000\n",
       "25%         7.875000\n",
       "50%        28.000000\n",
       "75%        66.950000\n",
       "max       999.900000\n",
       "Name: Pokemon_Weight, dtype: float64"
      ]
     },
     "execution_count": 15,
     "metadata": {},
     "output_type": "execute_result"
    }
   ],
   "source": [
    "data.Pokemon_Weight.describe()"
   ]
  },
  {
   "cell_type": "code",
   "execution_count": 16,
   "metadata": {},
   "outputs": [
    {
     "data": {
      "image/png": "[encoded data removed]",
      "text/plain": [
       "<Figure size 432x288 with 1 Axes>"
      ]
     },
     "metadata": {
      "needs_background": "light"
     },
     "output_type": "display_data"
    }
   ],
   "source": [
    "data.plot.scatter(x=\"Pokemon_Height\",y=\"Pokemon_Weight\", title = 'Height vs. Weight')\n",
    "plt.show()"
   ]
  },
  {
   "cell_type": "code",
   "execution_count": 17,
   "metadata": {},
   "outputs": [
    {
     "data": {
      "image/png": "[encoded data removed]",
      "text/plain": [
       "<Figure size 432x288 with 1 Axes>"
      ]
     },
     "metadata": {
      "needs_background": "light"
     },
     "output_type": "display_data"
    }
   ],
   "source": [
    "data.Region_of_Origin.value_counts(normalize=True)\n",
    "data.Region_of_Origin.value_counts(normalize=True).plot.barh(title = 'Region of Origin')\n",
    "plt.show()"
   ]
  },
  {
   "cell_type": "code",
   "execution_count": 18,
   "metadata": {},
   "outputs": [
    {
     "data": {
      "text/plain": [
       "Pokemon_Id                         0\n",
       "Pokedex_Number                     0\n",
       "Pokemon_Name                       0\n",
       "Classification                     0\n",
       "Alternate_Form_Name              898\n",
       "Original_Pokemon_ID              898\n",
       "Legendary_Type                   949\n",
       "Pokemon_Height                     0\n",
       "Pokemon_Weight                     0\n",
       "Primary_Type                       0\n",
       "Secondary_Type                   508\n",
       "Primary_Ability                    0\n",
       "Primary_Ability_Description        0\n",
       "Secondary_Ability                540\n",
       "Secondary_Ability_Description    540\n",
       "Hidden_Ability                   236\n",
       "Hidden_Ability_Description       236\n",
       "Male_Ratio                         0\n",
       "Female_Ratio                       0\n",
       "Base_Happiness                     0\n",
       "Game_of_Origin                     0\n",
       "Region_of_Origin                   0\n",
       "Health_Stat                        0\n",
       "Attack_Stat                        0\n",
       "Defense_Stat                       0\n",
       "Special_Attack_Stat                0\n",
       "Special_Defense_Stat               0\n",
       "Speed_Stat                         0\n",
       "Base_Stat_Total                    0\n",
       "Health_EV                          0\n",
       "Attack_EV                          0\n",
       "Defense_EV                         0\n",
       "Special_Attack_EV                  0\n",
       "Special_Defense_EV                 0\n",
       "Speed_EV                           0\n",
       "EV_Yield_Total                     0\n",
       "Catch_Rate                         0\n",
       "Experience_Growth                  0\n",
       "Experience_Growth_Total            0\n",
       "Experience_Yield                   0\n",
       "Primary_Egg_Group                  0\n",
       "Secondary_Egg_Group              775\n",
       "Egg_Cycle_Count                    0\n",
       "Pre-Evolution_Pokemon_Id         618\n",
       "dtype: int64"
      ]
     },
     "execution_count": 18,
     "metadata": {},
     "output_type": "execute_result"
    }
   ],
   "source": [
    "data.isnull().sum()"
   ]
  },
  {
   "cell_type": "code",
   "execution_count": 19,
   "metadata": {},
   "outputs": [
    {
     "data": {
      "text/html": [
       "<div>\n",
       "<style scoped>\n",
       "    .dataframe tbody tr th:only-of-type {\n",
       "        vertical-align: middle;\n",
       "    }\n",
       "\n",
       "    .dataframe tbody tr th {\n",
       "        vertical-align: top;\n",
       "    }\n",
       "\n",
       "    .dataframe thead th {\n",
       "        text-align: right;\n",
       "    }\n",
       "</style>\n",
       "<table border=\"1\" class=\"dataframe\">\n",
       "  <thead>\n",
       "    <tr style=\"text-align: right;\">\n",
       "      <th></th>\n",
       "      <th>Base_Happiness</th>\n",
       "      <th>Attack_Stat</th>\n",
       "      <th>Defense_Stat</th>\n",
       "    </tr>\n",
       "  </thead>\n",
       "  <tbody>\n",
       "    <tr>\n",
       "      <th>Base_Happiness</th>\n",
       "      <td>1.000000</td>\n",
       "      <td>-0.324336</td>\n",
       "      <td>-0.231653</td>\n",
       "    </tr>\n",
       "    <tr>\n",
       "      <th>Attack_Stat</th>\n",
       "      <td>-0.324336</td>\n",
       "      <td>1.000000</td>\n",
       "      <td>0.459626</td>\n",
       "    </tr>\n",
       "    <tr>\n",
       "      <th>Defense_Stat</th>\n",
       "      <td>-0.231653</td>\n",
       "      <td>0.459626</td>\n",
       "      <td>1.000000</td>\n",
       "    </tr>\n",
       "  </tbody>\n",
       "</table>\n",
       "</div>"
      ],
      "text/plain": [
       "                Base_Happiness  Attack_Stat  Defense_Stat\n",
       "Base_Happiness        1.000000    -0.324336     -0.231653\n",
       "Attack_Stat          -0.324336     1.000000      0.459626\n",
       "Defense_Stat         -0.231653     0.459626      1.000000"
      ]
     },
     "execution_count": 19,
     "metadata": {},
     "output_type": "execute_result"
    }
   ],
   "source": [
    "data[['Base_Happiness','Attack_Stat','Defense_Stat']].corr()"
   ]
  },
  {
   "cell_type": "code",
   "execution_count": 20,
   "metadata": {},
   "outputs": [
    {
     "data": {
      "image/png": "[encoded data removed]",
      "text/plain": [
       "<Figure size 432x288 with 1 Axes>"
      ]
     },
     "metadata": {
      "needs_background": "light"
     },
     "output_type": "display_data"
    }
   ],
   "source": [
    "data.plot.scatter(x=\"Base_Happiness\",y=\"Catch_Rate\", title = 'Base Happiness and Catch Rate')\n",
    "plt.show()"
   ]
  },
  {
   "cell_type": "code",
   "execution_count": 21,
   "metadata": {},
   "outputs": [
    {
     "data": {
      "text/plain": [
       "count    1076.000000\n",
       "mean       61.844796\n",
       "std        22.349509\n",
       "min         0.000000\n",
       "25%        70.000000\n",
       "50%        70.000000\n",
       "75%        70.000000\n",
       "max       140.000000\n",
       "Name: Base_Happiness, dtype: float64"
      ]
     },
     "execution_count": 21,
     "metadata": {},
     "output_type": "execute_result"
    }
   ],
   "source": [
    "data.Base_Happiness.describe()"
   ]
  },
  {
   "cell_type": "code",
   "execution_count": 22,
   "metadata": {},
   "outputs": [
    {
     "data": {
      "text/html": [
       "<div>\n",
       "<style scoped>\n",
       "    .dataframe tbody tr th:only-of-type {\n",
       "        vertical-align: middle;\n",
       "    }\n",
       "\n",
       "    .dataframe tbody tr th {\n",
       "        vertical-align: top;\n",
       "    }\n",
       "\n",
       "    .dataframe thead th {\n",
       "        text-align: right;\n",
       "    }\n",
       "</style>\n",
       "<table border=\"1\" class=\"dataframe\">\n",
       "  <thead>\n",
       "    <tr style=\"text-align: right;\">\n",
       "      <th></th>\n",
       "      <th>Pokemon_Name</th>\n",
       "      <th>Catch_Rate</th>\n",
       "      <th>Health_Stat</th>\n",
       "      <th>Base_Happiness</th>\n",
       "      <th>Pokedex_Number</th>\n",
       "    </tr>\n",
       "  </thead>\n",
       "  <tbody>\n",
       "    <tr>\n",
       "      <th>71</th>\n",
       "      <td>\"Diglett\"</td>\n",
       "      <td>255</td>\n",
       "      <td>10</td>\n",
       "      <td>70</td>\n",
       "      <td>50</td>\n",
       "    </tr>\n",
       "    <tr>\n",
       "      <th>73</th>\n",
       "      <td>\"Diglett\"</td>\n",
       "      <td>255</td>\n",
       "      <td>10</td>\n",
       "      <td>70</td>\n",
       "      <td>50</td>\n",
       "    </tr>\n",
       "    <tr>\n",
       "      <th>130</th>\n",
       "      <td>\"Magikarp\"</td>\n",
       "      <td>255</td>\n",
       "      <td>20</td>\n",
       "      <td>70</td>\n",
       "      <td>129</td>\n",
       "    </tr>\n",
       "    <tr>\n",
       "      <th>342</th>\n",
       "      <td>\"Feebas\"</td>\n",
       "      <td>255</td>\n",
       "      <td>20</td>\n",
       "      <td>70</td>\n",
       "      <td>349</td>\n",
       "    </tr>\n",
       "    <tr>\n",
       "      <th>955</th>\n",
       "      <td>\"Blipbug\"</td>\n",
       "      <td>255</td>\n",
       "      <td>25</td>\n",
       "      <td>50</td>\n",
       "      <td>824</td>\n",
       "    </tr>\n",
       "    <tr>\n",
       "      <th>79</th>\n",
       "      <td>\"Rattata\"</td>\n",
       "      <td>255</td>\n",
       "      <td>30</td>\n",
       "      <td>70</td>\n",
       "      <td>19</td>\n",
       "    </tr>\n",
       "    <tr>\n",
       "      <th>80</th>\n",
       "      <td>\"Rattata\"</td>\n",
       "      <td>255</td>\n",
       "      <td>30</td>\n",
       "      <td>70</td>\n",
       "      <td>19</td>\n",
       "    </tr>\n",
       "    <tr>\n",
       "      <th>292</th>\n",
       "      <td>\"Nosepass\"</td>\n",
       "      <td>255</td>\n",
       "      <td>30</td>\n",
       "      <td>70</td>\n",
       "      <td>299</td>\n",
       "    </tr>\n",
       "    <tr>\n",
       "      <th>529</th>\n",
       "      <td>\"Venipede\"</td>\n",
       "      <td>255</td>\n",
       "      <td>30</td>\n",
       "      <td>70</td>\n",
       "      <td>543</td>\n",
       "    </tr>\n",
       "    <tr>\n",
       "      <th>968</th>\n",
       "      <td>\"Rolycolt\"</td>\n",
       "      <td>255</td>\n",
       "      <td>30</td>\n",
       "      <td>50</td>\n",
       "      <td>837</td>\n",
       "    </tr>\n",
       "  </tbody>\n",
       "</table>\n",
       "</div>"
      ],
      "text/plain": [
       "    Pokemon_Name  Catch_Rate  Health_Stat  Base_Happiness  Pokedex_Number\n",
       "71     \"Diglett\"         255           10              70              50\n",
       "73     \"Diglett\"         255           10              70              50\n",
       "130   \"Magikarp\"         255           20              70             129\n",
       "342     \"Feebas\"         255           20              70             349\n",
       "955    \"Blipbug\"         255           25              50             824\n",
       "79     \"Rattata\"         255           30              70              19\n",
       "80     \"Rattata\"         255           30              70              19\n",
       "292   \"Nosepass\"         255           30              70             299\n",
       "529   \"Venipede\"         255           30              70             543\n",
       "968   \"Rolycolt\"         255           30              50             837"
      ]
     },
     "execution_count": 22,
     "metadata": {},
     "output_type": "execute_result"
    }
   ],
   "source": [
    "data[['Pokemon_Name','Catch_Rate','Health_Stat', 'Base_Happiness', 'Pokedex_Number']].sort_values(by=['Catch_Rate','Health_Stat'], ascending=[False,True]).head(10)\n",
    "#top 10 easiest to catch"
   ]
  },
  {
   "cell_type": "code",
   "execution_count": 23,
   "metadata": {},
   "outputs": [],
   "source": [
    "data = data[~data.Alternate_Form_Name.notna()].copy()"
   ]
  },
  {
   "cell_type": "code",
   "execution_count": 24,
   "metadata": {},
   "outputs": [
    {
     "data": {
      "text/html": [
       "<div>\n",
       "<style scoped>\n",
       "    .dataframe tbody tr th:only-of-type {\n",
       "        vertical-align: middle;\n",
       "    }\n",
       "\n",
       "    .dataframe tbody tr th {\n",
       "        vertical-align: top;\n",
       "    }\n",
       "\n",
       "    .dataframe thead th {\n",
       "        text-align: right;\n",
       "    }\n",
       "</style>\n",
       "<table border=\"1\" class=\"dataframe\">\n",
       "  <thead>\n",
       "    <tr style=\"text-align: right;\">\n",
       "      <th></th>\n",
       "      <th>Pokemon_Name</th>\n",
       "      <th>Catch_Rate</th>\n",
       "      <th>Health_Stat</th>\n",
       "      <th>Base_Happiness</th>\n",
       "      <th>Pokedex_Number</th>\n",
       "    </tr>\n",
       "  </thead>\n",
       "  <tbody>\n",
       "    <tr>\n",
       "      <th>1069</th>\n",
       "      <td>\"Regidrago\"</td>\n",
       "      <td>3</td>\n",
       "      <td>200</td>\n",
       "      <td>35</td>\n",
       "      <td>895</td>\n",
       "    </tr>\n",
       "    <tr>\n",
       "      <th>474</th>\n",
       "      <td>\"Giratina\"</td>\n",
       "      <td>3</td>\n",
       "      <td>150</td>\n",
       "      <td>0</td>\n",
       "      <td>487</td>\n",
       "    </tr>\n",
       "    <tr>\n",
       "      <th>818</th>\n",
       "      <td>\"Melmetal\"</td>\n",
       "      <td>3</td>\n",
       "      <td>135</td>\n",
       "      <td>0</td>\n",
       "      <td>809</td>\n",
       "    </tr>\n",
       "    <tr>\n",
       "      <th>642</th>\n",
       "      <td>\"Kyurem\"</td>\n",
       "      <td>3</td>\n",
       "      <td>125</td>\n",
       "      <td>0</td>\n",
       "      <td>646</td>\n",
       "    </tr>\n",
       "    <tr>\n",
       "      <th>475</th>\n",
       "      <td>\"Cresselia\"</td>\n",
       "      <td>3</td>\n",
       "      <td>120</td>\n",
       "      <td>100</td>\n",
       "      <td>488</td>\n",
       "    </tr>\n",
       "    <tr>\n",
       "      <th>478</th>\n",
       "      <td>\"Arceus\"</td>\n",
       "      <td>3</td>\n",
       "      <td>120</td>\n",
       "      <td>0</td>\n",
       "      <td>493</td>\n",
       "    </tr>\n",
       "    <tr>\n",
       "      <th>237</th>\n",
       "      <td>\"Entei\"</td>\n",
       "      <td>3</td>\n",
       "      <td>115</td>\n",
       "      <td>35</td>\n",
       "      <td>244</td>\n",
       "    </tr>\n",
       "    <tr>\n",
       "      <th>473</th>\n",
       "      <td>\"Regigigas\"</td>\n",
       "      <td>3</td>\n",
       "      <td>110</td>\n",
       "      <td>0</td>\n",
       "      <td>486</td>\n",
       "    </tr>\n",
       "    <tr>\n",
       "      <th>719</th>\n",
       "      <td>\"Zygarde\"</td>\n",
       "      <td>3</td>\n",
       "      <td>108</td>\n",
       "      <td>0</td>\n",
       "      <td>718</td>\n",
       "    </tr>\n",
       "    <tr>\n",
       "      <th>42</th>\n",
       "      <td>\"Mewtwo\"</td>\n",
       "      <td>3</td>\n",
       "      <td>106</td>\n",
       "      <td>0</td>\n",
       "      <td>150</td>\n",
       "    </tr>\n",
       "  </tbody>\n",
       "</table>\n",
       "</div>"
      ],
      "text/plain": [
       "     Pokemon_Name  Catch_Rate  Health_Stat  Base_Happiness  Pokedex_Number\n",
       "1069  \"Regidrago\"           3          200              35             895\n",
       "474    \"Giratina\"           3          150               0             487\n",
       "818    \"Melmetal\"           3          135               0             809\n",
       "642      \"Kyurem\"           3          125               0             646\n",
       "475   \"Cresselia\"           3          120             100             488\n",
       "478      \"Arceus\"           3          120               0             493\n",
       "237       \"Entei\"           3          115              35             244\n",
       "473   \"Regigigas\"           3          110               0             486\n",
       "719     \"Zygarde\"           3          108               0             718\n",
       "42       \"Mewtwo\"           3          106               0             150"
      ]
     },
     "execution_count": 24,
     "metadata": {},
     "output_type": "execute_result"
    }
   ],
   "source": [
    "data[['Pokemon_Name','Catch_Rate','Health_Stat', 'Base_Happiness', 'Pokedex_Number']].sort_values(by=['Catch_Rate','Health_Stat'], ascending=[True,False]).head(10)\n",
    "#top 10 hardest to catch"
   ]
  },
  {
   "cell_type": "code",
   "execution_count": 25,
   "metadata": {},
   "outputs": [
    {
     "data": {
      "text/html": [
       "<div>\n",
       "<style scoped>\n",
       "    .dataframe tbody tr th:only-of-type {\n",
       "        vertical-align: middle;\n",
       "    }\n",
       "\n",
       "    .dataframe tbody tr th {\n",
       "        vertical-align: top;\n",
       "    }\n",
       "\n",
       "    .dataframe thead th {\n",
       "        text-align: right;\n",
       "    }\n",
       "</style>\n",
       "<table border=\"1\" class=\"dataframe\">\n",
       "  <thead>\n",
       "    <tr style=\"text-align: right;\">\n",
       "      <th></th>\n",
       "      <th>Pokemon_Id</th>\n",
       "      <th>Pokedex_Number</th>\n",
       "      <th>Pokemon_Name</th>\n",
       "      <th>Classification</th>\n",
       "      <th>Alternate_Form_Name</th>\n",
       "      <th>Original_Pokemon_ID</th>\n",
       "      <th>Legendary_Type</th>\n",
       "      <th>Pokemon_Height</th>\n",
       "      <th>Pokemon_Weight</th>\n",
       "      <th>Primary_Type</th>\n",
       "      <th>...</th>\n",
       "      <th>Speed_EV</th>\n",
       "      <th>EV_Yield_Total</th>\n",
       "      <th>Catch_Rate</th>\n",
       "      <th>Experience_Growth</th>\n",
       "      <th>Experience_Growth_Total</th>\n",
       "      <th>Experience_Yield</th>\n",
       "      <th>Primary_Egg_Group</th>\n",
       "      <th>Secondary_Egg_Group</th>\n",
       "      <th>Egg_Cycle_Count</th>\n",
       "      <th>Pre-Evolution_Pokemon_Id</th>\n",
       "    </tr>\n",
       "  </thead>\n",
       "  <tbody>\n",
       "    <tr>\n",
       "      <th>1067</th>\n",
       "      <td>1597</td>\n",
       "      <td>893</td>\n",
       "      <td>\"Zarude\"</td>\n",
       "      <td>\"Rogue Monkey Pokemon\"</td>\n",
       "      <td>NaN</td>\n",
       "      <td>NaN</td>\n",
       "      <td>\"Mythical\"</td>\n",
       "      <td>1.8</td>\n",
       "      <td>70.0</td>\n",
       "      <td>\"Dark\"</td>\n",
       "      <td>...</td>\n",
       "      <td>0</td>\n",
       "      <td>3</td>\n",
       "      <td>3</td>\n",
       "      <td>\"Slow\"</td>\n",
       "      <td>1250000</td>\n",
       "      <td>274</td>\n",
       "      <td>\"Undiscovered\"</td>\n",
       "      <td>NaN</td>\n",
       "      <td>120</td>\n",
       "      <td>NaN</td>\n",
       "    </tr>\n",
       "    <tr>\n",
       "      <th>1068</th>\n",
       "      <td>1598</td>\n",
       "      <td>894</td>\n",
       "      <td>\"Regieleki\"</td>\n",
       "      <td>\"Electron Pokemon\"</td>\n",
       "      <td>NaN</td>\n",
       "      <td>NaN</td>\n",
       "      <td>\"Sub-Legendary\"</td>\n",
       "      <td>1.2</td>\n",
       "      <td>145.0</td>\n",
       "      <td>\"Electric\"</td>\n",
       "      <td>...</td>\n",
       "      <td>3</td>\n",
       "      <td>3</td>\n",
       "      <td>3</td>\n",
       "      <td>\"Slow\"</td>\n",
       "      <td>1250000</td>\n",
       "      <td>290</td>\n",
       "      <td>\"Undiscovered\"</td>\n",
       "      <td>NaN</td>\n",
       "      <td>120</td>\n",
       "      <td>NaN</td>\n",
       "    </tr>\n",
       "    <tr>\n",
       "      <th>1069</th>\n",
       "      <td>1599</td>\n",
       "      <td>895</td>\n",
       "      <td>\"Regidrago\"</td>\n",
       "      <td>\"Dragon Pokemon\"</td>\n",
       "      <td>NaN</td>\n",
       "      <td>NaN</td>\n",
       "      <td>\"Sub-Legendary\"</td>\n",
       "      <td>2.1</td>\n",
       "      <td>200.0</td>\n",
       "      <td>\"Dragon\"</td>\n",
       "      <td>...</td>\n",
       "      <td>0</td>\n",
       "      <td>3</td>\n",
       "      <td>3</td>\n",
       "      <td>\"Slow\"</td>\n",
       "      <td>1250000</td>\n",
       "      <td>290</td>\n",
       "      <td>\"Undiscovered\"</td>\n",
       "      <td>NaN</td>\n",
       "      <td>120</td>\n",
       "      <td>NaN</td>\n",
       "    </tr>\n",
       "    <tr>\n",
       "      <th>1072</th>\n",
       "      <td>1602</td>\n",
       "      <td>896</td>\n",
       "      <td>\"Glastrier\"</td>\n",
       "      <td>\"Wild Horse Pokemon\"</td>\n",
       "      <td>NaN</td>\n",
       "      <td>NaN</td>\n",
       "      <td>\"Sub-Legendary\"</td>\n",
       "      <td>2.2</td>\n",
       "      <td>800.0</td>\n",
       "      <td>\"Ice\"</td>\n",
       "      <td>...</td>\n",
       "      <td>0</td>\n",
       "      <td>3</td>\n",
       "      <td>3</td>\n",
       "      <td>\"Slow\"</td>\n",
       "      <td>1250000</td>\n",
       "      <td>290</td>\n",
       "      <td>\"Undiscovered\"</td>\n",
       "      <td>NaN</td>\n",
       "      <td>120</td>\n",
       "      <td>NaN</td>\n",
       "    </tr>\n",
       "    <tr>\n",
       "      <th>1073</th>\n",
       "      <td>1603</td>\n",
       "      <td>897</td>\n",
       "      <td>\"Spectrier\"</td>\n",
       "      <td>\"Swift Horse Pokemon\"</td>\n",
       "      <td>NaN</td>\n",
       "      <td>NaN</td>\n",
       "      <td>\"Sub-Legendary\"</td>\n",
       "      <td>2.0</td>\n",
       "      <td>44.5</td>\n",
       "      <td>\"Ghost\"</td>\n",
       "      <td>...</td>\n",
       "      <td>0</td>\n",
       "      <td>3</td>\n",
       "      <td>3</td>\n",
       "      <td>\"Slow\"</td>\n",
       "      <td>1250000</td>\n",
       "      <td>290</td>\n",
       "      <td>\"Undiscovered\"</td>\n",
       "      <td>NaN</td>\n",
       "      <td>120</td>\n",
       "      <td>NaN</td>\n",
       "    </tr>\n",
       "  </tbody>\n",
       "</table>\n",
       "<p>5 rows × 44 columns</p>\n",
       "</div>"
      ],
      "text/plain": [
       "      Pokemon_Id  Pokedex_Number Pokemon_Name          Classification  \\\n",
       "1067        1597             893     \"Zarude\"  \"Rogue Monkey Pokemon\"   \n",
       "1068        1598             894  \"Regieleki\"      \"Electron Pokemon\"   \n",
       "1069        1599             895  \"Regidrago\"        \"Dragon Pokemon\"   \n",
       "1072        1602             896  \"Glastrier\"    \"Wild Horse Pokemon\"   \n",
       "1073        1603             897  \"Spectrier\"   \"Swift Horse Pokemon\"   \n",
       "\n",
       "     Alternate_Form_Name  Original_Pokemon_ID   Legendary_Type  \\\n",
       "1067                 NaN                  NaN       \"Mythical\"   \n",
       "1068                 NaN                  NaN  \"Sub-Legendary\"   \n",
       "1069                 NaN                  NaN  \"Sub-Legendary\"   \n",
       "1072                 NaN                  NaN  \"Sub-Legendary\"   \n",
       "1073                 NaN                  NaN  \"Sub-Legendary\"   \n",
       "\n",
       "      Pokemon_Height  Pokemon_Weight Primary_Type  ... Speed_EV  \\\n",
       "1067             1.8            70.0       \"Dark\"  ...        0   \n",
       "1068             1.2           145.0   \"Electric\"  ...        3   \n",
       "1069             2.1           200.0     \"Dragon\"  ...        0   \n",
       "1072             2.2           800.0        \"Ice\"  ...        0   \n",
       "1073             2.0            44.5      \"Ghost\"  ...        0   \n",
       "\n",
       "     EV_Yield_Total Catch_Rate Experience_Growth Experience_Growth_Total  \\\n",
       "1067              3          3            \"Slow\"                 1250000   \n",
       "1068              3          3            \"Slow\"                 1250000   \n",
       "1069              3          3            \"Slow\"                 1250000   \n",
       "1072              3          3            \"Slow\"                 1250000   \n",
       "1073              3          3            \"Slow\"                 1250000   \n",
       "\n",
       "     Experience_Yield Primary_Egg_Group  Secondary_Egg_Group  Egg_Cycle_Count  \\\n",
       "1067              274    \"Undiscovered\"                  NaN              120   \n",
       "1068              290    \"Undiscovered\"                  NaN              120   \n",
       "1069              290    \"Undiscovered\"                  NaN              120   \n",
       "1072              290    \"Undiscovered\"                  NaN              120   \n",
       "1073              290    \"Undiscovered\"                  NaN              120   \n",
       "\n",
       "      Pre-Evolution_Pokemon_Id  \n",
       "1067                       NaN  \n",
       "1068                       NaN  \n",
       "1069                       NaN  \n",
       "1072                       NaN  \n",
       "1073                       NaN  \n",
       "\n",
       "[5 rows x 44 columns]"
      ]
     },
     "execution_count": 25,
     "metadata": {},
     "output_type": "execute_result"
    }
   ],
   "source": [
    "data.tail()"
   ]
  },
  {
   "cell_type": "code",
   "execution_count": 26,
   "metadata": {},
   "outputs": [
    {
     "data": {
      "text/plain": [
       "Index(['Pokemon_Id', 'Pokedex_Number', 'Pokemon_Name', 'Classification',\n",
       "       'Alternate_Form_Name', 'Original_Pokemon_ID', 'Legendary_Type',\n",
       "       'Pokemon_Height', 'Pokemon_Weight', 'Primary_Type', 'Secondary_Type',\n",
       "       'Primary_Ability', 'Primary_Ability_Description', 'Secondary_Ability',\n",
       "       'Secondary_Ability_Description', 'Hidden_Ability',\n",
       "       'Hidden_Ability_Description', 'Male_Ratio', 'Female_Ratio',\n",
       "       'Base_Happiness', 'Game_of_Origin', 'Region_of_Origin', 'Health_Stat',\n",
       "       'Attack_Stat', 'Defense_Stat', 'Special_Attack_Stat',\n",
       "       'Special_Defense_Stat', 'Speed_Stat', 'Base_Stat_Total', 'Health_EV',\n",
       "       'Attack_EV', 'Defense_EV', 'Special_Attack_EV', 'Special_Defense_EV',\n",
       "       'Speed_EV', 'EV_Yield_Total', 'Catch_Rate', 'Experience_Growth',\n",
       "       'Experience_Growth_Total', 'Experience_Yield', 'Primary_Egg_Group',\n",
       "       'Secondary_Egg_Group', 'Egg_Cycle_Count', 'Pre-Evolution_Pokemon_Id'],\n",
       "      dtype='object')"
      ]
     },
     "execution_count": 26,
     "metadata": {},
     "output_type": "execute_result"
    }
   ],
   "source": [
    "data.columns"
   ]
  },
  {
   "cell_type": "code",
   "execution_count": 27,
   "metadata": {},
   "outputs": [
    {
     "data": {
      "text/plain": [
       "<AxesSubplot:>"
      ]
     },
     "execution_count": 27,
     "metadata": {},
     "output_type": "execute_result"
    },
    {
     "data": {
      "image/png": "[encoded data removed]",
      "text/plain": [
       "<Figure size 432x288 with 1 Axes>"
      ]
     },
     "metadata": {
      "needs_background": "light"
     },
     "output_type": "display_data"
    }
   ],
   "source": [
    "fighting = data[['Pokemon_Weight', 'Pokemon_Height', 'Health_Stat', 'Attack_Stat', 'Defense_Stat', 'Speed_Stat', 'Special_Attack_Stat', 'Special_Defense_Stat']]\n",
    "sns.heatmap(fighting.corr(), annot=True, cmap='Pastel1', cbar=False)"
   ]
  },
  {
   "cell_type": "code",
   "execution_count": 28,
   "metadata": {},
   "outputs": [
    {
     "data": {
      "text/plain": [
       "<AxesSubplot:xlabel='Health_Stat', ylabel='Region_of_Origin'>"
      ]
     },
     "execution_count": 28,
     "metadata": {},
     "output_type": "execute_result"
    },
    {
     "data": {
      "image/png": "[encoded data removed]",
      "text/plain": [
       "<Figure size 432x288 with 1 Axes>"
      ]
     },
     "metadata": {
      "needs_background": "light"
     },
     "output_type": "display_data"
    }
   ],
   "source": [
    "sns.violinplot(x = data.Health_Stat, y = data.Region_of_Origin)"
   ]
  },
  {
   "cell_type": "code",
   "execution_count": 29,
   "metadata": {},
   "outputs": [
    {
     "data": {
      "text/plain": [
       "<AxesSubplot:xlabel='Health_Stat', ylabel='Game_of_Origin'>"
      ]
     },
     "execution_count": 29,
     "metadata": {},
     "output_type": "execute_result"
    },
    {
     "data": {
      "image/png": "[encoded data removed]",
      "text/plain": [
       "<Figure size 432x288 with 1 Axes>"
      ]
     },
     "metadata": {
      "needs_background": "light"
     },
     "output_type": "display_data"
    }
   ],
   "source": [
    "sns.violinplot(x = data.Health_Stat, y = data.Game_of_Origin)"
   ]
  }
 ],
 "metadata": {
  "kernelspec": {
   "display_name": "Python 3 (ipykernel)",
   "language": "python",
   "name": "python3"
  },
  "language_info": {
   "codemirror_mode": {
    "name": "ipython",
    "version": 3
   },
   "file_extension": ".py",
   "mimetype": "text/x-python",
   "name": "python",
   "nbconvert_exporter": "python",
   "pygments_lexer": "ipython3",
   "version": "3.8.7"
  }
 },
 "nbformat": 4,
 "nbformat_minor": 5
}
